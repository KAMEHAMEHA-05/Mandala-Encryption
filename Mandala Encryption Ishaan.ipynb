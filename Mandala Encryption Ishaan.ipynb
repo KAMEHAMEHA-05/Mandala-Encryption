{
 "cells": [
  {
   "cell_type": "markdown",
   "id": "29cc4ae6",
   "metadata": {},
   "source": [
    "## Basic Image Loading"
   ]
  },
  {
   "cell_type": "code",
   "execution_count": 15,
   "id": "32eb01f7",
   "metadata": {},
   "outputs": [],
   "source": [
    "import cv2\n",
    "import numpy as np"
   ]
  },
  {
   "cell_type": "code",
   "execution_count": 3,
   "id": "1559e1e8",
   "metadata": {},
   "outputs": [
    {
     "data": {
      "text/plain": [
       "-1"
      ]
     },
     "execution_count": 3,
     "metadata": {},
     "output_type": "execute_result"
    }
   ],
   "source": [
    "mandal_c = cv2.imread(r\"D:\\Ishaan\\Bin Arena\\Mandala Encryption\\data\\mandala-minimalist-simple-silhouette-vector-illustration_801978-15600-3597873028.jpg\")\n",
    "mandal_c = cv2.resize(mandal,(500, 500))\n",
    "mandal_g = cv2.cvtColor(mandal_c, cv2.COLOR_BGR2GRAY)\n",
    "cv2.imshow('mandal', mandal_g)\n",
    "cv2.waitKey(0)"
   ]
  },
  {
   "cell_type": "markdown",
   "id": "5d61edb8",
   "metadata": {},
   "source": [
    "## Trial Image Modification Tools"
   ]
  },
  {
   "cell_type": "code",
   "execution_count": 56,
   "id": "4dfaf728",
   "metadata": {},
   "outputs": [],
   "source": [
    "import cv2\n",
    "import numpy as np\n",
    "\n",
    "gray_image = mandal_g\n",
    "if gray_image is not None:\n",
    "    bgr_image = cv2.cvtColor(gray_image, cv2.COLOR_GRAY2BGR)\n",
    "    point_x, point_y = 10, 40\n",
    "    new_color = (0, 0, 255)  \n",
    "    bgr_image[point_y, point_x] = new_color\n",
    "    cv2.imshow(\"Modified Image\", bgr_image)\n",
    "    cv2.waitKey(0)\n",
    "    cv2.destroyAllWindows()\n",
    "else:\n",
    "    print(\"Error: Unable to load the image.\")"
   ]
  },
  {
   "cell_type": "code",
   "execution_count": 57,
   "id": "2a7b90ad",
   "metadata": {},
   "outputs": [],
   "source": [
    "trial_g = []\n",
    "for x in mandal_g:\n",
    "    row = []\n",
    "    for y in x:\n",
    "        row.append(y)\n",
    "    trial_g.append(row)\n",
    "trial_g = np.array(trial_g)"
   ]
  },
  {
   "cell_type": "code",
   "execution_count": 58,
   "id": "ddef3efc",
   "metadata": {},
   "outputs": [],
   "source": [
    "mod_row = []\n",
    "for x in range(500):\n",
    "    mod_row.append(0)\n",
    "trial_g[40]=mod_row"
   ]
  },
  {
   "cell_type": "code",
   "execution_count": 59,
   "id": "c559168d",
   "metadata": {},
   "outputs": [
    {
     "data": {
      "text/plain": [
       "-1"
      ]
     },
     "execution_count": 59,
     "metadata": {},
     "output_type": "execute_result"
    }
   ],
   "source": [
    "cv2.imshow('trial', trial_g)\n",
    "cv2.waitKey(0)"
   ]
  },
  {
   "cell_type": "markdown",
   "id": "09442651",
   "metadata": {},
   "source": [
    "## 1. Finding Patches"
   ]
  },
  {
   "cell_type": "markdown",
   "id": "1a9b5dda",
   "metadata": {},
   "source": [
    "[image](https://img.freepik.com/premium-vector/mandala-minimalist-simple-silhouette-vector-illustration_801978-15600.jpg)"
   ]
  },
  {
   "cell_type": "code",
   "execution_count": null,
   "id": "c1a62393",
   "metadata": {},
   "outputs": [],
   "source": [
    "#mandal_g[40]"
   ]
  },
  {
   "cell_type": "code",
   "execution_count": 41,
   "id": "fec48374",
   "metadata": {},
   "outputs": [
    {
     "name": "stdout",
     "output_type": "stream",
     "text": [
      "[198, 199, 200, 201, 202, 203, 204, 205, 206, 207, 236, 237, 238, 239, 240, 241, 242, 243, 244, 245, 246, 247, 248, 249, 250, 251, 252, 253, 254, 255, 256, 257, 258, 259, 260, 261, 262, 263, 264, 265, 266, 295, 296, 297, 298, 299, 300, 301, 302, 303, 304]\n"
     ]
    }
   ],
   "source": [
    "blks = [] #list of all indexes where the point is black\n",
    "for i, x in enumerate(mandal_g[40]):\n",
    "    if x<=100:\n",
    "        blks.append(i)\n",
    "print(blks)"
   ]
  },
  {
   "cell_type": "code",
   "execution_count": 51,
   "id": "cf9a6193",
   "metadata": {},
   "outputs": [],
   "source": [
    "patches_un = [] #unfiltered list of patches\n",
    "patch = []\n",
    "for i, x in enumerate(blks[1:]):\n",
    "    if abs(x-blks[i-1])<=3:\n",
    "        patch.append(x)\n",
    "    else:\n",
    "        patches_un.append(patch)\n",
    "        patch = []\n",
    "patches_un.append(patch)"
   ]
  },
  {
   "cell_type": "code",
   "execution_count": 53,
   "id": "89019edb",
   "metadata": {},
   "outputs": [],
   "source": [
    "patches = [] #final filtered list of patches\n",
    "for x in patches_un:\n",
    "    if x!=[]:\n",
    "        patches.append(x)"
   ]
  },
  {
   "cell_type": "code",
   "execution_count": 60,
   "id": "8c0b7416",
   "metadata": {},
   "outputs": [
    {
     "name": "stdout",
     "output_type": "stream",
     "text": [
      "200 207 204 8\n",
      "238 266 252 29\n",
      "297 304 301 8\n"
     ]
    }
   ],
   "source": [
    "for x in patches:\n",
    "    print(x[0], x[-1], x[len(x)//2], len(x)) #printing span of each patch (start, end, midpoint, length)"
   ]
  },
  {
   "cell_type": "markdown",
   "id": "a8a0121f",
   "metadata": {},
   "source": [
    "### Final Patch Code"
   ]
  },
  {
   "cell_type": "code",
   "execution_count": 87,
   "id": "d2304f09",
   "metadata": {},
   "outputs": [],
   "source": [
    "full_patches = []\n",
    "for r in mandal_g:\n",
    "    row = []\n",
    "    blks = [] #list of all indexes where the point is black\n",
    "    for i, x in enumerate(r):\n",
    "        if x<=100:\n",
    "            blks.append(i)\n",
    "    #print(blks)\n",
    "    patches_un = [] #unfiltered list of patches\n",
    "    patch = []\n",
    "    for i, x in enumerate(blks[1:]):\n",
    "        if abs(x-blks[i-1])<=3:\n",
    "            patch.append(x)\n",
    "        else:\n",
    "            patches_un.append(patch)\n",
    "            patch = []\n",
    "    patches_un.append(patch)\n",
    "    patches = [] #final filtered list of patches\n",
    "    for x in patches_un:\n",
    "        if x!=[]:\n",
    "            patches.append(x)\n",
    "    for x in patches:\n",
    "        row.append([x[0], x[-1], x[len(x)//2], len(x)]) #printing span of each patch (start, end, midpoint, length)\n",
    "    full_patches.append(row)\n",
    "    #return full_patches"
   ]
  },
  {
   "cell_type": "code",
   "execution_count": 88,
   "id": "c5309844",
   "metadata": {},
   "outputs": [
    {
     "data": {
      "text/plain": [
       "[[200, 207, 204, 8], [238, 266, 252, 29], [297, 304, 301, 8]]"
      ]
     },
     "execution_count": 88,
     "metadata": {},
     "output_type": "execute_result"
    }
   ],
   "source": [
    "full_patches[40]"
   ]
  },
  {
   "cell_type": "markdown",
   "id": "47e9cb4e",
   "metadata": {},
   "source": [
    "## Determining a Circle"
   ]
  },
  {
   "cell_type": "code",
   "execution_count": null,
   "id": "f97d65ea",
   "metadata": {},
   "outputs": [],
   "source": [
    "# yet to be written...."
   ]
  },
  {
   "cell_type": "code",
   "execution_count": null,
   "id": "a502cfe1",
   "metadata": {},
   "outputs": [],
   "source": []
  }
 ],
 "metadata": {
  "kernelspec": {
   "display_name": "Python 3 (ipykernel)",
   "language": "python",
   "name": "python3"
  },
  "language_info": {
   "codemirror_mode": {
    "name": "ipython",
    "version": 3
   },
   "file_extension": ".py",
   "mimetype": "text/x-python",
   "name": "python",
   "nbconvert_exporter": "python",
   "pygments_lexer": "ipython3",
   "version": "3.11.5"
  }
 },
 "nbformat": 4,
 "nbformat_minor": 5
}
